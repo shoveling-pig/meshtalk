{
 "cells": [
  {
   "cell_type": "code",
   "execution_count": 1,
   "metadata": {},
   "outputs": [
    {
     "name": "stdout",
     "output_type": "stream",
     "text": [
      "Looking in links: https://dl.fbaipublicfiles.com/pytorch3d/packaging/wheels/py38_cu102_pyt190/download.html\n",
      "Collecting pytorch3d\n",
      "  Using cached https://dl.fbaipublicfiles.com/pytorch3d/packaging/wheels/py38_cu102_pyt190/pytorch3d-0.6.0-cp38-cp38-linux_x86_64.whl (38.8 MB)\n",
      "Requirement already satisfied: iopath in /data3/shovelingpig/miniconda3/envs/meshtalk/lib/python3.8/site-packages (from pytorch3d) (0.1.9)\n",
      "Requirement already satisfied: fvcore in /data3/shovelingpig/miniconda3/envs/meshtalk/lib/python3.8/site-packages (from pytorch3d) (0.1.5.post20210915)\n",
      "Requirement already satisfied: numpy in /data3/shovelingpig/miniconda3/envs/meshtalk/lib/python3.8/site-packages (from fvcore->pytorch3d) (1.21.2)\n",
      "Requirement already satisfied: yacs>=0.1.6 in /data3/shovelingpig/miniconda3/envs/meshtalk/lib/python3.8/site-packages (from fvcore->pytorch3d) (0.1.6)\n",
      "Requirement already satisfied: pyyaml>=5.1 in /data3/shovelingpig/miniconda3/envs/meshtalk/lib/python3.8/site-packages (from fvcore->pytorch3d) (6.0)\n",
      "Requirement already satisfied: tqdm in /data3/shovelingpig/miniconda3/envs/meshtalk/lib/python3.8/site-packages (from fvcore->pytorch3d) (4.62.3)\n",
      "Requirement already satisfied: termcolor>=1.1 in /data3/shovelingpig/miniconda3/envs/meshtalk/lib/python3.8/site-packages (from fvcore->pytorch3d) (1.1.0)\n",
      "Requirement already satisfied: Pillow in /data3/shovelingpig/miniconda3/envs/meshtalk/lib/python3.8/site-packages (from fvcore->pytorch3d) (8.2.0)\n",
      "Requirement already satisfied: tabulate in /data3/shovelingpig/miniconda3/envs/meshtalk/lib/python3.8/site-packages (from fvcore->pytorch3d) (0.8.9)\n",
      "Requirement already satisfied: portalocker in /data3/shovelingpig/miniconda3/envs/meshtalk/lib/python3.8/site-packages (from iopath->pytorch3d) (2.3.2)\n",
      "Installing collected packages: pytorch3d\n",
      "Successfully installed pytorch3d-0.6.0\n"
     ]
    }
   ],
   "source": [
    "import sys\n",
    "import torch\n",
    "version_str=\"\".join([\n",
    "    f\"py3{sys.version_info.minor}_cu\",\n",
    "    torch.version.cuda.replace(\".\",\"\"),\n",
    "    f\"_pyt{torch.__version__[0:5:2]}\"\n",
    "])\n",
    "!pip install pytorch3d -f https://dl.fbaipublicfiles.com/pytorch3d/packaging/wheels/{version_str}/download.html"
   ]
  },
  {
   "cell_type": "code",
   "execution_count": null,
   "metadata": {},
   "outputs": [],
   "source": []
  }
 ],
 "metadata": {
  "interpreter": {
   "hash": "31f2aee4e71d21fbe5cf8b01ff0e069b9275f58929596ceb00d14d90e3e16cd6"
  },
  "kernelspec": {
   "display_name": "Python 3.8.10 64-bit",
   "language": "python",
   "name": "python3"
  },
  "language_info": {
   "codemirror_mode": {
    "name": "ipython",
    "version": 3
   },
   "file_extension": ".py",
   "mimetype": "text/x-python",
   "name": "python",
   "nbconvert_exporter": "python",
   "pygments_lexer": "ipython3",
   "version": "3.8.12"
  },
  "orig_nbformat": 4
 },
 "nbformat": 4,
 "nbformat_minor": 2
}
